{
  "nbformat": 4,
  "nbformat_minor": 0,
  "metadata": {
    "colab": {
      "provenance": [],
      "authorship_tag": "ABX9TyO2h4pT5P96MVbGLR1oWAPP",
      "include_colab_link": true
    },
    "kernelspec": {
      "name": "python3",
      "display_name": "Python 3"
    },
    "language_info": {
      "name": "python"
    }
  },
  "cells": [
    {
      "cell_type": "markdown",
      "metadata": {
        "id": "view-in-github",
        "colab_type": "text"
      },
      "source": [
        "<a href=\"https://colab.research.google.com/github/jaidalmotra/Mini-Project-07-Audio-to-Text-/blob/main/Mini_Project_07_Audio_to_Text.ipynb\" target=\"_parent\"><img src=\"https://colab.research.google.com/assets/colab-badge.svg\" alt=\"Open In Colab\"/></a>"
      ]
    },
    {
      "cell_type": "markdown",
      "source": [
        "Python Speech Recognition module"
      ],
      "metadata": {
        "id": "mfOHq4MXWTvT"
      }
    },
    {
      "cell_type": "code",
      "execution_count": 1,
      "metadata": {
        "colab": {
          "base_uri": "https://localhost:8080/"
        },
        "id": "Qnsw1U5lWEaF",
        "outputId": "1e5c66dc-4f46-41e9-93b4-a61c88428fa1"
      },
      "outputs": [
        {
          "output_type": "stream",
          "name": "stdout",
          "text": [
            "Collecting speechrecognition\n",
            "  Downloading SpeechRecognition-3.10.0-py2.py3-none-any.whl (32.8 MB)\n",
            "\u001b[2K     \u001b[90m━━━━━━━━━━━━━━━━━━━━━━━━━━━━━━━━━━━━━━━━\u001b[0m \u001b[32m32.8/32.8 MB\u001b[0m \u001b[31m9.0 MB/s\u001b[0m eta \u001b[36m0:00:00\u001b[0m\n",
            "\u001b[?25hRequirement already satisfied: requests>=2.26.0 in /usr/local/lib/python3.10/dist-packages (from speechrecognition) (2.27.1)\n",
            "Requirement already satisfied: urllib3<1.27,>=1.21.1 in /usr/local/lib/python3.10/dist-packages (from requests>=2.26.0->speechrecognition) (1.26.16)\n",
            "Requirement already satisfied: certifi>=2017.4.17 in /usr/local/lib/python3.10/dist-packages (from requests>=2.26.0->speechrecognition) (2023.5.7)\n",
            "Requirement already satisfied: charset-normalizer~=2.0.0 in /usr/local/lib/python3.10/dist-packages (from requests>=2.26.0->speechrecognition) (2.0.12)\n",
            "Requirement already satisfied: idna<4,>=2.5 in /usr/local/lib/python3.10/dist-packages (from requests>=2.26.0->speechrecognition) (3.4)\n",
            "Installing collected packages: speechrecognition\n",
            "Successfully installed speechrecognition-3.10.0\n"
          ]
        }
      ],
      "source": [
        "pip install speechrecognition"
      ]
    },
    {
      "cell_type": "markdown",
      "source": [
        "To troubleshoot any dependency issue, you can try the following steps:\n",
        "\n",
        "Check Dependencies: Ensure that you have all the necessary dependencies installed for PyAudio. In Colab, you can try running the following command before installing PyAudio:"
      ],
      "metadata": {
        "id": "N88MroQhWSfY"
      }
    },
    {
      "cell_type": "code",
      "source": [
        "!apt-get install -y portaudio19-dev\n"
      ],
      "metadata": {
        "colab": {
          "base_uri": "https://localhost:8080/"
        },
        "id": "pJIlxp3EWdBl",
        "outputId": "a26f17e3-eb18-4c30-e578-09a29ebbe304"
      },
      "execution_count": 10,
      "outputs": [
        {
          "output_type": "stream",
          "name": "stdout",
          "text": [
            "Reading package lists... Done\n",
            "Building dependency tree       \n",
            "Reading state information... Done\n",
            "The following additional packages will be installed:\n",
            "  libportaudio2 libportaudiocpp0\n",
            "Suggested packages:\n",
            "  portaudio19-doc\n",
            "The following NEW packages will be installed:\n",
            "  libportaudio2 libportaudiocpp0 portaudio19-dev\n",
            "0 upgraded, 3 newly installed, 0 to remove and 15 not upgraded.\n",
            "Need to get 188 kB of archives.\n",
            "After this operation, 926 kB of additional disk space will be used.\n",
            "Get:1 http://archive.ubuntu.com/ubuntu focal/universe amd64 libportaudio2 amd64 19.6.0-1build1 [65.4 kB]\n",
            "Get:2 http://archive.ubuntu.com/ubuntu focal/universe amd64 libportaudiocpp0 amd64 19.6.0-1build1 [16.1 kB]\n",
            "Get:3 http://archive.ubuntu.com/ubuntu focal/universe amd64 portaudio19-dev amd64 19.6.0-1build1 [106 kB]\n",
            "Fetched 188 kB in 0s (408 kB/s)\n",
            "Selecting previously unselected package libportaudio2:amd64.\n",
            "(Reading database ... 123069 files and directories currently installed.)\n",
            "Preparing to unpack .../libportaudio2_19.6.0-1build1_amd64.deb ...\n",
            "Unpacking libportaudio2:amd64 (19.6.0-1build1) ...\n",
            "Selecting previously unselected package libportaudiocpp0:amd64.\n",
            "Preparing to unpack .../libportaudiocpp0_19.6.0-1build1_amd64.deb ...\n",
            "Unpacking libportaudiocpp0:amd64 (19.6.0-1build1) ...\n",
            "Selecting previously unselected package portaudio19-dev:amd64.\n",
            "Preparing to unpack .../portaudio19-dev_19.6.0-1build1_amd64.deb ...\n",
            "Unpacking portaudio19-dev:amd64 (19.6.0-1build1) ...\n",
            "Setting up libportaudio2:amd64 (19.6.0-1build1) ...\n",
            "Setting up libportaudiocpp0:amd64 (19.6.0-1build1) ...\n",
            "Setting up portaudio19-dev:amd64 (19.6.0-1build1) ...\n",
            "Processing triggers for libc-bin (2.31-0ubuntu9.9) ...\n"
          ]
        }
      ]
    },
    {
      "cell_type": "code",
      "source": [
        "pip install gTTS\n"
      ],
      "metadata": {
        "colab": {
          "base_uri": "https://localhost:8080/"
        },
        "id": "VxQLV9x4Yptk",
        "outputId": "57f1f4b9-7e73-43a9-c74f-850d48eb1d7a"
      },
      "execution_count": 32,
      "outputs": [
        {
          "output_type": "stream",
          "name": "stdout",
          "text": [
            "Collecting gTTS\n",
            "  Downloading gTTS-2.3.2-py3-none-any.whl (28 kB)\n",
            "Requirement already satisfied: requests<3,>=2.27 in /usr/local/lib/python3.10/dist-packages (from gTTS) (2.27.1)\n",
            "Requirement already satisfied: click<8.2,>=7.1 in /usr/local/lib/python3.10/dist-packages (from gTTS) (8.1.3)\n",
            "Requirement already satisfied: urllib3<1.27,>=1.21.1 in /usr/local/lib/python3.10/dist-packages (from requests<3,>=2.27->gTTS) (1.26.16)\n",
            "Requirement already satisfied: certifi>=2017.4.17 in /usr/local/lib/python3.10/dist-packages (from requests<3,>=2.27->gTTS) (2023.5.7)\n",
            "Requirement already satisfied: charset-normalizer~=2.0.0 in /usr/local/lib/python3.10/dist-packages (from requests<3,>=2.27->gTTS) (2.0.12)\n",
            "Requirement already satisfied: idna<4,>=2.5 in /usr/local/lib/python3.10/dist-packages (from requests<3,>=2.27->gTTS) (3.4)\n",
            "Installing collected packages: gTTS\n",
            "Successfully installed gTTS-2.3.2\n"
          ]
        }
      ]
    },
    {
      "cell_type": "code",
      "source": [
        "!apt-get install -y portaudio19-dev\n"
      ],
      "metadata": {
        "colab": {
          "base_uri": "https://localhost:8080/"
        },
        "id": "AU2_T7RCYlMG",
        "outputId": "ddcd3fd3-4eff-470d-b7b3-32b0a990b818"
      },
      "execution_count": 11,
      "outputs": [
        {
          "output_type": "stream",
          "name": "stdout",
          "text": [
            "Reading package lists... Done\n",
            "Building dependency tree       \n",
            "Reading state information... Done\n",
            "portaudio19-dev is already the newest version (19.6.0-1build1).\n",
            "0 upgraded, 0 newly installed, 0 to remove and 15 not upgraded.\n"
          ]
        }
      ]
    },
    {
      "cell_type": "markdown",
      "source": [
        "Use a Specific Version: PyAudio may have specific version requirements or compatibility issues. Try installing a specific version of PyAudio by specifying the version number during installation. For example:"
      ],
      "metadata": {
        "id": "BjPEp5V-YlBE"
      }
    },
    {
      "cell_type": "code",
      "source": [
        "!pip install pyaudio==0.2.11\n"
      ],
      "metadata": {
        "colab": {
          "base_uri": "https://localhost:8080/"
        },
        "id": "SG1mNespYwmT",
        "outputId": "a947381b-dc6c-44b1-bdcd-dbc1d52c8b0f"
      },
      "execution_count": 12,
      "outputs": [
        {
          "output_type": "stream",
          "name": "stdout",
          "text": [
            "Collecting pyaudio==0.2.11\n",
            "  Downloading PyAudio-0.2.11.tar.gz (37 kB)\n",
            "  Preparing metadata (setup.py) ... \u001b[?25l\u001b[?25hdone\n",
            "Building wheels for collected packages: pyaudio\n",
            "  Building wheel for pyaudio (setup.py) ... \u001b[?25l\u001b[?25hdone\n",
            "  Created wheel for pyaudio: filename=PyAudio-0.2.11-cp310-cp310-linux_x86_64.whl size=55868 sha256=1da4636040eee78b7c13a53758367a20bc786fc4192f5bb07d0ab0db75694f15\n",
            "  Stored in directory: /root/.cache/pip/wheels/c1/39/53/5f1b4ef7911925a5d1876ced4b342263a78ab37ce8298ecf51\n",
            "Successfully built pyaudio\n",
            "Installing collected packages: pyaudio\n",
            "Successfully installed pyaudio-0.2.11\n"
          ]
        }
      ]
    },
    {
      "cell_type": "markdown",
      "source": [
        "Python pyttsx3 module"
      ],
      "metadata": {
        "id": "gAElNTvYWiaW"
      }
    },
    {
      "cell_type": "code",
      "source": [
        "pip install pyttsx3"
      ],
      "metadata": {
        "colab": {
          "base_uri": "https://localhost:8080/"
        },
        "id": "1dEvdzGAWna4",
        "outputId": "dd1ce282-cbc2-4c38-e093-d35dbbd920a9"
      },
      "execution_count": 42,
      "outputs": [
        {
          "output_type": "stream",
          "name": "stdout",
          "text": [
            "Requirement already satisfied: pyttsx3 in /usr/local/lib/python3.10/dist-packages (2.90)\n"
          ]
        }
      ]
    },
    {
      "cell_type": "markdown",
      "source": [
        "Translation of Speech to Text"
      ],
      "metadata": {
        "id": "mcYcLWZGWnCg"
      }
    },
    {
      "cell_type": "code",
      "source": [
        "#init(driverName string, debug bool)"
      ],
      "metadata": {
        "id": "AxbuGttWWttE"
      },
      "execution_count": 41,
      "outputs": []
    },
    {
      "cell_type": "markdown",
      "source": [
        "After initialization, we will make the program speak the text using say() function.\n",
        "This method may also take 2 arguments"
      ],
      "metadata": {
        "id": "Atow7DoOXBkR"
      }
    },
    {
      "cell_type": "code",
      "source": [
        "#say(text unicode, name string)"
      ],
      "metadata": {
        "id": "MJdOWrYVXBRC"
      },
      "execution_count": 40,
      "outputs": []
    },
    {
      "cell_type": "markdown",
      "source": [
        "Finally, to run the speech we use runAndWait() All the say() texts won’t be said unless the interpreter encounters runAndWait().\n",
        "Below is the implementation."
      ],
      "metadata": {
        "id": "EIoSNiSbXOSL"
      }
    },
    {
      "cell_type": "code",
      "source": [
        "import speech_recognition as sr\n",
        "from gtts import gTTS\n",
        "from IPython.display import Audio\n",
        "\n",
        "# Initialize the recognizer\n",
        "r = sr.Recognizer()\n",
        "\n",
        "# Function to convert text to speech using gTTS\n",
        "def SpeakText(command):\n",
        "    tts = gTTS(text=command, lang='en')\n",
        "    tts.save('/content/output.mp3')\n",
        "    Audio('/content/output.mp3', autoplay=True)\n",
        "\n",
        "# Loop infinitely for the user to speak\n",
        "while True:\n",
        "    # Exception handling to handle runtime exceptions\n",
        "    try:\n",
        "        # Use the microphone as the source for input.\n",
        "        with sr.AudioFile('/content/mixkit-boy-says-volcano-2439.wav') as source:\n",
        "            audio2 = r.record(source)\n",
        "\n",
        "        # Using Google to recognize audio\n",
        "        MyText = r.recognize_google(audio2)\n",
        "        MyText = MyText.lower()\n",
        "\n",
        "        print(\"Did you say:\", MyText)\n",
        "        SpeakText(MyText)\n",
        "        break;\n",
        "\n",
        "\n",
        "    except sr.RequestError as e:\n",
        "        print(\"Could not request results; {0}\".format(e))\n",
        "\n",
        "    except sr.UnknownValueError:\n",
        "        print(\"Unknown error occurred\")\n"
      ],
      "metadata": {
        "colab": {
          "base_uri": "https://localhost:8080/"
        },
        "id": "1BPtzbPjXMWN",
        "outputId": "604a65a2-8b9f-4d70-d44f-2707c2212476"
      },
      "execution_count": 39,
      "outputs": [
        {
          "output_type": "stream",
          "name": "stdout",
          "text": [
            "Did you say: volcano\n"
          ]
        }
      ]
    },
    {
      "cell_type": "markdown",
      "source": [
        "# New Section"
      ],
      "metadata": {
        "id": "XJmnR8-bbRxo"
      }
    },
    {
      "cell_type": "markdown",
      "source": [
        "Note:In case of : \"OSError: No Default Input Device Available.\"\n",
        "\n",
        "This error typically occurs when the system does not have a default microphone or input device set up. PyAudio relies on the system's default input device to capture audio.\n",
        "\n",
        "To resolve this issue, you can try the following steps:\n",
        "\n",
        "Ensure that you have a working microphone connected to your system. If you are using an external microphone, make sure it is properly connected and recognized by your computer.\n",
        "\n",
        "Check the audio settings on your system. Ensure that the correct microphone is selected as the default input device. You can usually access audio settings through the control panel or system preferences on your operating system.\n",
        "\n",
        "Restart your system and try running the code again. Sometimes, a system restart can resolve audio device-related issues.\n",
        "\n",
        "If you are running the code in a virtual environment or on a remote machine, ensure that the audio input is properly configured and accessible within that environment.\n",
        "\n",
        "If the issue persists, it may be worth checking the PyAudio documentation or seeking help from the PyAudio community for further assistance."
      ],
      "metadata": {
        "id": "gkJ-jUXxZqFa"
      }
    },
    {
      "cell_type": "markdown",
      "source": [
        "The process of setting up the default microphone on your PC can vary depending on the operating system you are using. Here are instructions for setting up the default microphone on some common operating systems:\n",
        "\n",
        "Windows:\n",
        "\n",
        "Right-click on the speaker icon in the system tray and select \"Sounds\" or \"Open Sound settings.\"\n",
        "In the Sound settings window, navigate to the \"Input\" tab.\n",
        "Under the \"Input\" section, you will see a list of available input devices. Select the microphone you want to set as the default.\n",
        "Click on the \"Set Default\" button to set the selected microphone as the default input device.\n",
        "You can adjust the microphone levels by clicking on \"Device Properties\" or \"Advanced\" options.\n",
        "macOS:\n",
        "\n",
        "Click on the Apple menu and select \"System Preferences.\"\n",
        "In the System Preferences window, click on \"Sound.\"\n",
        "Go to the \"Input\" tab.\n",
        "Choose the microphone you want to set as the default from the list of available input devices.\n",
        "Adjust the input volume using the slider below the device list.\n",
        "Close the Sound preferences window.\n",
        "Linux (Ubuntu):\n",
        "\n",
        "Open the system settings or control panel on your Linux distribution.\n",
        "Look for the \"Sound\" or \"Audio\" settings.\n",
        "In the input settings, select the microphone you want to set as the default.\n",
        "Adjust the input volume as needed.\n",
        "Close the settings window.\n",
        "Please note that these instructions are general guidelines, and the exact steps may vary depending on the version and configuration of your operating system. If you are using a different operating system or need more specific instructions, I recommend referring to the documentation or support resources provided by the manufacturer of your operating system.\n",
        "\n",
        "\n",
        "\n",
        "\n",
        "\n",
        "\n"
      ],
      "metadata": {
        "id": "UlYiunQyaD6b"
      }
    },
    {
      "cell_type": "markdown",
      "source": [
        "# New Section"
      ],
      "metadata": {
        "id": "7KPGxiFsZQAq"
      }
    }
  ]
}